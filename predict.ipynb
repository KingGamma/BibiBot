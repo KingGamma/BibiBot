{
 "cells": [
  {
   "cell_type": "code",
   "execution_count": 18,
   "metadata": {},
   "outputs": [],
   "source": [
    "import numpy as np\n",
    "import pickle\n",
    "import tqdm\n",
    "from keras.models import Sequential\n",
    "from keras.layers import Dense, LSTM\n",
    "from keras.callbacks import ModelCheckpoint"
   ]
  },
  {
   "cell_type": "code",
   "execution_count": 44,
   "metadata": {},
   "outputs": [],
   "source": [
    "seed = \"לא מבין מה עובר עליי\""
   ]
  },
  {
   "cell_type": "code",
   "execution_count": 20,
   "metadata": {},
   "outputs": [],
   "source": [
    "char2int = pickle.load(open(\"char2int.pickle\", \"rb\"))\n",
    "int2char = pickle.load(open(\"int2char.pickle\", \"rb\"))"
   ]
  },
  {
   "cell_type": "code",
   "execution_count": 10,
   "metadata": {},
   "outputs": [
    {
     "data": {
      "text/plain": [
       "{'\\n': 0,\n",
       " ' ': 1,\n",
       " 'a': 2,\n",
       " 'b': 3,\n",
       " 'c': 4,\n",
       " 'd': 5,\n",
       " 'e': 6,\n",
       " 'f': 7,\n",
       " 'g': 8,\n",
       " 'i': 9,\n",
       " 'l': 10,\n",
       " 'm': 11,\n",
       " 'n': 12,\n",
       " 'o': 13,\n",
       " 'p': 14,\n",
       " 'q': 15,\n",
       " 'r': 16,\n",
       " 's': 17,\n",
       " 't': 18,\n",
       " 'u': 19,\n",
       " 'v': 20,\n",
       " 'y': 21,\n",
       " 'ְ': 22,\n",
       " 'ֲ': 23,\n",
       " 'ִ': 24,\n",
       " 'ֶ': 25,\n",
       " 'ַ': 26,\n",
       " 'ָ': 27,\n",
       " 'ּ': 28,\n",
       " 'א': 29,\n",
       " 'ב': 30,\n",
       " 'ג': 31,\n",
       " 'ד': 32,\n",
       " 'ה': 33,\n",
       " 'ו': 34,\n",
       " 'ז': 35,\n",
       " 'ח': 36,\n",
       " 'ט': 37,\n",
       " 'י': 38,\n",
       " 'ך': 39,\n",
       " 'כ': 40,\n",
       " 'ל': 41,\n",
       " 'ם': 42,\n",
       " 'מ': 43,\n",
       " 'ן': 44,\n",
       " 'נ': 45,\n",
       " 'ס': 46,\n",
       " 'ע': 47,\n",
       " 'ף': 48,\n",
       " 'פ': 49,\n",
       " 'ץ': 50,\n",
       " 'צ': 51,\n",
       " 'ק': 52,\n",
       " 'ר': 53,\n",
       " 'ש': 54,\n",
       " 'ת': 55,\n",
       " '‟': 56}"
      ]
     },
     "execution_count": 10,
     "metadata": {},
     "output_type": "execute_result"
    }
   ],
   "source": [
    "char2int"
   ]
  },
  {
   "cell_type": "code",
   "execution_count": 21,
   "metadata": {},
   "outputs": [],
   "source": [
    "sequence_length = 100\n",
    "n_unique_chars = len(char2int)\n",
    "\n",
    "# building the model\n",
    "model = Sequential([\n",
    "    LSTM(128, input_shape=(sequence_length, n_unique_chars)),\n",
    "    Dense(n_unique_chars, activation=\"softmax\"),\n",
    "])"
   ]
  },
  {
   "cell_type": "code",
   "execution_count": 22,
   "metadata": {},
   "outputs": [],
   "source": [
    "model.load_weights(\"results/mizrahit-1.27.h5\")"
   ]
  },
  {
   "cell_type": "code",
   "execution_count": 46,
   "metadata": {},
   "outputs": [
    {
     "name": "stderr",
     "output_type": "stream",
     "text": [
      "Generating text: 100%|███████████████████████████████████████████████████████████████| 300/300 [00:16<00:00, 17.81it/s]"
     ]
    },
    {
     "name": "stdout",
     "output_type": "stream",
     "text": [
      "Generated text:\n",
      "איך שאהבתי \n",
      "אני הלב שלך לאהוב לאהיות \n",
      "את נותנת בידי \n",
      "אני כל היית לי מבטים \n",
      "תני להיוח הכל היום ואני \n",
      "אני כל היילה שלי לך \n",
      "היי את כל הזמן הכל בוער \n",
      "אני רוקד עכשיו את היית לי \n",
      "הוב יום לא יכול להצחיי \n",
      "הכל היית לי בטיחות איך \n",
      "הולך להתוקש \n",
      "התמיד האהבה של מעימה \n",
      "הכל הדרך \n",
      "אני בלידה כמה זכה לאה בך \n",
      "תני לי ה\n"
     ]
    },
    {
     "name": "stderr",
     "output_type": "stream",
     "text": [
      "\n"
     ]
    }
   ],
   "source": [
    "# generate 400 characters\n",
    "generated = \"\"\n",
    "for i in tqdm.tqdm(range(300), \"Generating text\"):\n",
    "    # make the input sequence\n",
    "    X = np.zeros((1, sequence_length, n_unique_chars))\n",
    "    for t, char in enumerate(seed):\n",
    "        X[0, (sequence_length - len(seed)) + t, char2int[char]] = 1\n",
    "    # predict the next character\n",
    "    predicted = model.predict(X, verbose=0)[0]\n",
    "    # converting the vector to an integer\n",
    "    next_index = np.argmax(predicted)\n",
    "    # converting the integer to a character\n",
    "    next_char = int2char[next_index]\n",
    "    # add the character to results\n",
    "    generated += next_char\n",
    "    # shift seed and the predicted character\n",
    "    seed = seed[1:] + next_char\n",
    "print(\"Generated text:\")\n",
    "print(generated)"
   ]
  }
 ],
 "metadata": {
  "kernelspec": {
   "display_name": "Python [conda env:amit] *",
   "language": "python",
   "name": "conda-env-amit-py"
  },
  "language_info": {
   "codemirror_mode": {
    "name": "ipython",
    "version": 3
   },
   "file_extension": ".py",
   "mimetype": "text/x-python",
   "name": "python",
   "nbconvert_exporter": "python",
   "pygments_lexer": "ipython3",
   "version": "3.7.6"
  }
 },
 "nbformat": 4,
 "nbformat_minor": 2
}
